{
 "cells": [
  {
   "cell_type": "code",
   "execution_count": 21,
   "id": "creative-butterfly",
   "metadata": {},
   "outputs": [],
   "source": [
    "import numpy as np\n",
    "import pandas as pd\n",
    "import matplotlib\n",
    "import statistics\n",
    "import matplotlib.pyplot as plt\n",
    "from scipy.stats import norm\n",
    "matplotlib.style.use('ggplot')\n",
    "%matplotlib inline \n"
   ]
  },
  {
   "cell_type": "code",
   "execution_count": 2,
   "id": "possible-discrimination",
   "metadata": {},
   "outputs": [],
   "source": [
    "df = pd.read_csv(\"C:/Users/Admin/OneDrive/Рабочий стол/предметы/ПЗВТ/15/r1z1.csv\") "
   ]
  },
  {
   "cell_type": "code",
   "execution_count": 3,
   "id": "transparent-december",
   "metadata": {},
   "outputs": [
    {
     "data": {
      "text/html": [
       "<div>\n",
       "<style scoped>\n",
       "    .dataframe tbody tr th:only-of-type {\n",
       "        vertical-align: middle;\n",
       "    }\n",
       "\n",
       "    .dataframe tbody tr th {\n",
       "        vertical-align: top;\n",
       "    }\n",
       "\n",
       "    .dataframe thead th {\n",
       "        text-align: right;\n",
       "    }\n",
       "</style>\n",
       "<table border=\"1\" class=\"dataframe\">\n",
       "  <thead>\n",
       "    <tr style=\"text-align: right;\">\n",
       "      <th></th>\n",
       "      <th>X</th>\n",
       "    </tr>\n",
       "  </thead>\n",
       "  <tbody>\n",
       "    <tr>\n",
       "      <th>count</th>\n",
       "      <td>91.000000</td>\n",
       "    </tr>\n",
       "    <tr>\n",
       "      <th>mean</th>\n",
       "      <td>120.920879</td>\n",
       "    </tr>\n",
       "    <tr>\n",
       "      <th>std</th>\n",
       "      <td>2.429473</td>\n",
       "    </tr>\n",
       "    <tr>\n",
       "      <th>min</th>\n",
       "      <td>115.000000</td>\n",
       "    </tr>\n",
       "    <tr>\n",
       "      <th>25%</th>\n",
       "      <td>119.100000</td>\n",
       "    </tr>\n",
       "    <tr>\n",
       "      <th>50%</th>\n",
       "      <td>121.000000</td>\n",
       "    </tr>\n",
       "    <tr>\n",
       "      <th>75%</th>\n",
       "      <td>122.500000</td>\n",
       "    </tr>\n",
       "    <tr>\n",
       "      <th>max</th>\n",
       "      <td>127.000000</td>\n",
       "    </tr>\n",
       "  </tbody>\n",
       "</table>\n",
       "</div>"
      ],
      "text/plain": [
       "                X\n",
       "count   91.000000\n",
       "mean   120.920879\n",
       "std      2.429473\n",
       "min    115.000000\n",
       "25%    119.100000\n",
       "50%    121.000000\n",
       "75%    122.500000\n",
       "max    127.000000"
      ]
     },
     "execution_count": 3,
     "metadata": {},
     "output_type": "execute_result"
    }
   ],
   "source": [
    "df.describe()"
   ]
  },
  {
   "cell_type": "code",
   "execution_count": 8,
   "id": "expressed-affiliation",
   "metadata": {},
   "outputs": [
    {
     "data": {
      "text/plain": [
       "array([124.5, 119. , 125. , 120. , 121. , 117. , 120. , 119.2, 120. ,\n",
       "       121.5, 123.2, 122.5, 122. , 123.5, 121.7, 123. , 123. , 122. ,\n",
       "       124. , 123.5, 120. , 117. , 120.5, 120. , 121. , 119. , 117. ,\n",
       "       120.5, 121.5, 118.5, 124. , 121. , 120.5, 120.4, 115. , 117. ,\n",
       "       123.5, 115. , 118.2, 118. , 116. , 118. , 118.6, 117. , 119.5,\n",
       "       125. , 123.3, 117.2, 118.6, 122. , 121.5, 117.5, 121.1, 119. ,\n",
       "       121.5, 121. , 121.5, 122. , 121.5, 123.5, 124.5, 120. , 122.5,\n",
       "       123.5, 118.5, 122.5, 122. , 122. , 121.5, 119. , 120.9, 119. ,\n",
       "       118.5, 120.5, 125.7, 122.5, 122.4, 120.5, 123.5, 127. , 119.5,\n",
       "       122. , 120.5, 120. , 123. , 121. , 125. , 122.3, 120.5, 123. ,\n",
       "       122. ])"
      ]
     },
     "execution_count": 8,
     "metadata": {},
     "output_type": "execute_result"
    }
   ],
   "source": [
    "mas = (df.to_numpy()).flatten()\n",
    "mas"
   ]
  },
  {
   "cell_type": "code",
   "execution_count": 5,
   "id": "together-sympathy",
   "metadata": {},
   "outputs": [
    {
     "name": "stdout",
     "output_type": "stream",
     "text": [
      "размер 91\n",
      "максимум 127.0\n",
      "минимум 115.0\n",
      "размах 12.0\n",
      "среднее 120.9208791208791\n",
      "смещённая дисперсия 5.837476150223404\n",
      "несмещённая дисперсия 5.902336996336998\n",
      "стандартное отклонение 2.416086950054448\n",
      "асимметрия -0.18073425528010348\n",
      "экцесс -0.20183453442057386\n",
      "медиана 121.0\n"
     ]
    }
   ],
   "source": [
    "print(\"размер\", mas.size)\n",
    "print(\"максимум\", mas.max())\n",
    "print(\"минимум\", mas.min())\n",
    "print(\"размах\", mas.max() - mas.min())\n",
    "print(\"среднее\", mas.mean())\n",
    "print(\"смещённая дисперсия\", mas.var())\n",
    "print(\"несмещённая дисперсия\", mas.var(ddof=1))\n",
    "print(\"стандартное отклонение\", mas.std())\n",
    "asymmetry = 0\n",
    "for i in range(mas.size):\n",
    "    asymmetry = asymmetry + (mas[i] - mas.mean())**3 \n",
    "asymmetry = asymmetry / (mas.size * mas.std()**3)\n",
    "print(\"асимметрия\", asymmetry)\n",
    "excess = 0\n",
    "for i in range(mas.size):\n",
    "    excess = excess + (mas[i] - mas.mean())**4\n",
    "excess = (excess / (mas.size * mas.std()**4))-3\n",
    "print(\"экцесс\", excess)\n",
    "print(\"медиана\", np.median(mas))"
   ]
  },
  {
   "cell_type": "code",
   "execution_count": 45,
   "id": "written-wyoming",
   "metadata": {},
   "outputs": [
    {
     "name": "stdout",
     "output_type": "stream",
     "text": [
      "если судить по гистограмме, то мода, это промежуток от 121 до 121.55\n",
      "мода не в промежутке =  122.0\n"
     ]
    },
    {
     "data": {
      "image/png": "[encoded data removed]",
      "text/plain": [
       "<Figure size 1080x720 with 1 Axes>"
      ]
     },
     "metadata": {
      "needs_background": "light"
     },
     "output_type": "display_data"
    }
   ],
   "source": [
    "fig, axes = plt.subplots(figsize=(15, 10))\n",
    "axes.hist(mas, bins = 20)\n",
    "# axes.hist(mas, bins = 20, density=True)\n",
    "axes.minorticks_on()\n",
    "axes.grid(which='minor', \n",
    "        color = 'k', \n",
    "        linestyle = ':')\n",
    "\n",
    "# std_mas = mas.std()\n",
    "# mean_mas = mas.mean()\n",
    "# mas.sort()\n",
    "# plt.plot(mas, norm.pdf(mas, mean_mas, std_mas))\n",
    "\n",
    "mode_ = statistics.mode(mas)\n",
    "print('если судить по гистограмме, то мода, это промежуток от 121 до 121.55')\n",
    "print(\"мода не в промежутке = \" , mode_)"
   ]
  },
  {
   "cell_type": "code",
   "execution_count": 42,
   "id": "canadian-chemical",
   "metadata": {},
   "outputs": [
    {
     "data": {
      "text/plain": [
       "[<matplotlib.lines.Line2D at 0x2780e1882b0>]"
      ]
     },
     "execution_count": 42,
     "metadata": {},
     "output_type": "execute_result"
    },
    {
     "data": {
      "image/png": "[encoded data removed]",
      "text/plain": [
       "<Figure size 432x288 with 1 Axes>"
      ]
     },
     "metadata": {
      "needs_background": "light"
     },
     "output_type": "display_data"
    }
   ],
   "source": [
    "std_mas = mas.std()\n",
    "mean_mas = mas.mean()\n",
    "mas.sort()\n",
    "plt.plot(mas, norm.pdf(mas, mean_mas, std_mas))"
   ]
  },
  {
   "cell_type": "code",
   "execution_count": 40,
   "id": "residential-sarah",
   "metadata": {},
   "outputs": [
    {
     "data": {
      "text/plain": [
       "(114.0, 127.0)"
      ]
     },
     "execution_count": 40,
     "metadata": {},
     "output_type": "execute_result"
    },
    {
     "data": {
      "image/png": "[encoded data removed]",
      "text/plain": [
       "<Figure size 432x288 with 1 Axes>"
      ]
     },
     "metadata": {
      "needs_background": "light"
     },
     "output_type": "display_data"
    }
   ],
   "source": [
    "mas.sort()\n",
    "empirical_fun_y = np.array([])\n",
    "empirical_fun_x = np.array([])\n",
    "num = 0;\n",
    "\n",
    "empirical_fun_y = np.append(empirical_fun_y, 0)\n",
    "empirical_fun_x = np.append(empirical_fun_x, 0)\n",
    "\n",
    "for i in range(mas.size - 1):\n",
    "    num = i\n",
    "    while mas[i] == mas[i+1]:\n",
    "        i=i+1\n",
    "    empirical_fun_y = np.append(empirical_fun_y, num/mas.size)\n",
    "    empirical_fun_x = np.append(empirical_fun_x, mas[i])\n",
    "\n",
    "empirical_fun_y = np.append(empirical_fun_y, 1)\n",
    "empirical_fun_x = np.append(empirical_fun_x, mas.max())\n",
    "\n",
    "plt.step(empirical_fun_x, empirical_fun_y)\n",
    "plt.xlim(mas.min() - 1, mas.max())"
   ]
  }
 ],
 "metadata": {
  "kernelspec": {
   "display_name": "Python 3",
   "language": "python",
   "name": "python3"
  },
  "language_info": {
   "codemirror_mode": {
    "name": "ipython",
    "version": 3
   },
   "file_extension": ".py",
   "mimetype": "text/x-python",
   "name": "python",
   "nbconvert_exporter": "python",
   "pygments_lexer": "ipython3",
   "version": "3.9.2"
  }
 },
 "nbformat": 4,
 "nbformat_minor": 5
}
